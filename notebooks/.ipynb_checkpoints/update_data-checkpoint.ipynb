{
 "cells": [
  {
   "cell_type": "code",
   "execution_count": 2,
   "id": "5354e108-838b-4b8e-84bd-3fd01c27e725",
   "metadata": {},
   "outputs": [
    {
     "name": "stdout",
     "output_type": "stream",
     "text": [
      "Saved: ..\\data\\external\\eurostat_lfsa_ehomp_ES_EU27_2015_2024.csv  rows=60  cols=['geo', 'year', 'value', 'sex', 'age', 'unit', 'wstatus']\n"
     ]
    }
   ],
   "source": [
    "# Download EU-LFS aggregates for telework (Eurostat) – dataset: lfsa_ehomp\n",
    "# Output: data/external/eurostat_lfsa_ehomp_ES_EU27_2015_2024.csv  (tidy: one row per year)\n",
    "#\n",
    "# NOTE: This downloads PUBLIC AGGREGATES (not SUF microdata).\n",
    "#       It fetches Spain (ES) and EU27_2020 for 2015–2024.\n",
    "\n",
    "from pathlib import Path\n",
    "import pandas as pd\n",
    "import eurostat\n",
    "\n",
    "# --- Settings ---\n",
    "geo_list = [\"ES\", \"EU27_2020\"]\n",
    "year_min, year_max = 2015, 2024\n",
    "\n",
    "# --- Output folder ---\n",
    "datadir = Path(\"../data/external\")\n",
    "datadir.mkdir(parents=True, exist_ok=True)\n",
    "out_csv = datadir / \"eurostat_lfsa_ehomp_ES_EU27_2015_2024.csv\"\n",
    "\n",
    "# --- Download ---\n",
    "df = eurostat.get_data_df(\n",
    "    \"lfsa_ehomp\",                 # Employed persons working from home (% of employment)\n",
    "    filter_pars={\"geo\": geo_list},\n",
    "    flags=False\n",
    ").reset_index(drop=False)\n",
    "\n",
    "# --- Normalize geo column name (eurostat lib may return 'geo\\\\TIME_PERIOD') ---\n",
    "geo_col = next(c for c in df.columns if c.lower().startswith(\"geo\"))\n",
    "df = df.rename(columns={geo_col: \"geo\"})\n",
    "\n",
    "# --- Wide years -> long tidy ---\n",
    "year_cols = [c for c in df.columns if str(c).isdigit()]\n",
    "id_vars = [c for c in df.columns if c not in year_cols]\n",
    "tidy = df.melt(id_vars=id_vars, value_vars=year_cols, var_name=\"year\", value_name=\"value\")\n",
    "\n",
    "# --- Types & year filter ---\n",
    "tidy[\"year\"] = pd.to_numeric(tidy[\"year\"], errors=\"coerce\")\n",
    "tidy = tidy.dropna(subset=[\"year\"])\n",
    "tidy = tidy[(tidy[\"year\"] >= year_min) & (tidy[\"year\"] <= year_max)]\n",
    "\n",
    "# --- Optional: keep common cuts if present (Total sex, 20–64, % of employment) ---\n",
    "def _safe_filter(d, col, allowed):\n",
    "    if col in d.columns:\n",
    "        d = d[d[col].astype(str).str.upper().isin([a.upper() for a in allowed])]\n",
    "    return d\n",
    "\n",
    "# Common dimension names used by Eurostat in this table (may vary by vintage)\n",
    "tidy = _safe_filter(tidy, \"sex\", [\"T\"])             # Total\n",
    "tidy = _safe_filter(tidy, \"age\", [\"Y20-64\"])        # 20–64\n",
    "tidy = _safe_filter(tidy, \"unit\", [\"PC_EMP\", \"PC\"]) # percent of employment (keep either label)\n",
    "tidy = _safe_filter(tidy, \"wstatus\", [\"EMP\"])       # employed total (if present)\n",
    "\n",
    "# --- Keep only needed columns + sort ---\n",
    "keep_cols = [\"geo\", \"year\", \"value\"] + [c for c in [\"sex\", \"age\", \"unit\", \"wstatus\"] if c in tidy.columns]\n",
    "tidy = tidy[keep_cols].sort_values([\"geo\", \"year\"]).reset_index(drop=True)\n",
    "\n",
    "# --- Save ---\n",
    "tidy.to_csv(out_csv, index=False)\n",
    "print(f\"Saved: {out_csv}  rows={len(tidy)}  cols={list(tidy.columns)}\")\n"
   ]
  },
  {
   "cell_type": "code",
   "execution_count": null,
   "id": "111d1440-61bf-4f0b-88db-c0bc3d7514c2",
   "metadata": {},
   "outputs": [],
   "source": []
  }
 ],
 "metadata": {
  "kernelspec": {
   "display_name": "Python 3 (ipykernel)",
   "language": "python",
   "name": "python3"
  },
  "language_info": {
   "codemirror_mode": {
    "name": "ipython",
    "version": 3
   },
   "file_extension": ".py",
   "mimetype": "text/x-python",
   "name": "python",
   "nbconvert_exporter": "python",
   "pygments_lexer": "ipython3",
   "version": "3.10.9"
  }
 },
 "nbformat": 4,
 "nbformat_minor": 5
}
